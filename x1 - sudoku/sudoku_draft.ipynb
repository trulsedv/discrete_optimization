{
 "cells": [
  {
   "cell_type": "code",
   "execution_count": 1,
   "metadata": {},
   "outputs": [],
   "source": [
    "import sudoku"
   ]
  },
  {
   "cell_type": "code",
   "execution_count": 2,
   "metadata": {},
   "outputs": [],
   "source": [
    "# NYT hard April 30, 2022\n",
    "puzzle = '000003500070000081000108900400920300700004000100000690600409000000600003030000200'"
   ]
  },
  {
   "cell_type": "code",
   "execution_count": 3,
   "metadata": {
    "scrolled": true
   },
   "outputs": [
    {
     "name": "stdout",
     "output_type": "stream",
     "text": [
      "   |  3|5  \n",
      " 7 |   | 81\n",
      "   |1 8|9  \n",
      "---+---+---\n",
      "4  |92 |3  \n",
      "7  |  4|   \n",
      "1  |   |69 \n",
      "---+---+---\n",
      "6  |4 9|   \n",
      "   |6  |  3\n",
      " 3 |   |2  \n",
      "\n",
      "Search for new?\n",
      "\n",
      "HIDDEN SINGLE IN A BOX!\n",
      "In box  8   2 can only be in row  8  column  6\n",
      "   |  3|5  \n",
      " 7 |   | 81\n",
      "   |1 8|9  \n",
      "---+---+---\n",
      "4  |92 |3  \n",
      "7  |  4|   \n",
      "1  |   |69 \n",
      "---+---+---\n",
      "6  |4 9|   \n",
      "   |6 2|  3\n",
      " 3 |   |2  \n",
      "\n",
      "Search for new?\n",
      "\n",
      "HIDDEN SINGLE IN A BOX!\n",
      "In box  3   3 can only be in row  3  column  8\n",
      "   |  3|5  \n",
      " 7 |   | 81\n",
      "   |1 8|93 \n",
      "---+---+---\n",
      "4  |92 |3  \n",
      "7  |  4|   \n",
      "1  |   |69 \n",
      "---+---+---\n",
      "6  |4 9|   \n",
      "   |6 2|  3\n",
      " 3 |   |2  \n",
      "\n",
      "Search for new?\n",
      "\n",
      "HIDDEN SINGLE IN A BOX!\n",
      "In box  8   3 can only be in row  7  column  5\n",
      "   |  3|5  \n",
      " 7 |   | 81\n",
      "   |1 8|93 \n",
      "---+---+---\n",
      "4  |92 |3  \n",
      "7  |  4|   \n",
      "1  |   |69 \n",
      "---+---+---\n",
      "6  |439|   \n",
      "   |6 2|  3\n",
      " 3 |   |2  \n",
      "\n",
      "Search for new?\n",
      "\n",
      "HIDDEN SINGLE IN A COLUMN!\n",
      "In column  1   3  can only be in row  2\n",
      "   |  3|5  \n",
      "37 |   | 81\n",
      "   |1 8|93 \n",
      "---+---+---\n",
      "4  |92 |3  \n",
      "7  |  4|   \n",
      "1  |   |69 \n",
      "---+---+---\n",
      "6  |439|   \n",
      "   |6 2|  3\n",
      " 3 |   |2  \n",
      "\n",
      "Search for new?\n",
      "\n",
      "HIDDEN SINGLE IN A BOX!\n",
      "In box  6   4 can only be in row  6  column  9\n",
      "   |  3|5  \n",
      "37 |   | 81\n",
      "   |1 8|93 \n",
      "---+---+---\n",
      "4  |92 |3  \n",
      "7  |  4|   \n",
      "1  |   |694\n",
      "---+---+---\n",
      "6  |439|   \n",
      "   |6 2|  3\n",
      " 3 |   |2  \n",
      "\n",
      "Search for new?\n",
      "\n",
      "HIDDEN SINGLE IN A BOX!\n",
      "In box  9   9 can only be in row  9  column  9\n",
      "   |  3|5  \n",
      "37 |   | 81\n",
      "   |1 8|93 \n",
      "---+---+---\n",
      "4  |92 |3  \n",
      "7  |  4|   \n",
      "1  |   |694\n",
      "---+---+---\n",
      "6  |439|   \n",
      "   |6 2|  3\n",
      " 3 |   |2 9\n",
      "\n",
      "Search for new?\n",
      "\n",
      "HIDDEN SINGLE IN A BOX!\n",
      "In box  9   6 can only be in row  9  column  8\n",
      "   |  3|5  \n",
      "37 |   | 81\n",
      "   |1 8|93 \n",
      "---+---+---\n",
      "4  |92 |3  \n",
      "7  |  4|   \n",
      "1  |   |694\n",
      "---+---+---\n",
      "6  |439|   \n",
      "   |6 2|  3\n",
      " 3 |   |269\n",
      "\n",
      "Search for new?\n",
      "\n",
      "HIDDEN SINGLE IN A ROW!\n",
      "In row  9   4  can only be in column  3\n",
      "   |  3|5  \n",
      "37 |   | 81\n",
      "   |1 8|93 \n",
      "---+---+---\n",
      "4  |92 |3  \n",
      "7  |  4|   \n",
      "1  |   |694\n",
      "---+---+---\n",
      "6  |439|   \n",
      "   |6 2|  3\n",
      " 34|   |269\n",
      "\n",
      "Search for new?\n",
      "\n",
      "NAKED SINGLE!\n",
      "Row  2  column  7  is  4\n",
      "   |  3|5  \n",
      "37 |   |481\n",
      "   |1 8|93 \n",
      "---+---+---\n",
      "4  |92 |3  \n",
      "7  |  4|   \n",
      "1  |   |694\n",
      "---+---+---\n",
      "6  |439|   \n",
      "   |6 2|  3\n",
      " 34|   |269\n",
      "\n",
      "Search for new?\n",
      "\n",
      "HIDDEN SINGLE IN A BOX!\n",
      "In box  9   4 can only be in row  8  column  8\n",
      "   |  3|5  \n",
      "37 |   |481\n",
      "   |1 8|93 \n",
      "---+---+---\n",
      "4  |92 |3  \n",
      "7  |  4|   \n",
      "1  |   |694\n",
      "---+---+---\n",
      "6  |439|   \n",
      "   |6 2| 43\n",
      " 34|   |269\n",
      "\n",
      "Search for new?\n",
      "\n",
      "POINTING TUPLE IN A ROW!\n",
      "Box  6  can only have  2  in row  5\n",
      "2  is removed as a possibility from:\n",
      "Row  5 column  2\n",
      "Row  5 column  3\n",
      "Search for new?\n",
      "\n",
      "POINTING TUPLE IN A ROW!\n",
      "Box  9  can only have  5  in row  7\n",
      "5  is removed as a possibility from:\n",
      "Row  7 column  2\n",
      "Row  7 column  3\n",
      "Search for new?\n",
      "\n",
      "POINTING TUPLE IN A ROW!\n",
      "Box  6  can only have  7  in row  4\n",
      "7  is removed as a possibility from:\n",
      "Row  4 column  6\n",
      "Search for new?\n",
      "\n",
      "LOCKED CANDIDATE IN A ROW!\n",
      "Row  9  can only have  1  in box  8\n",
      "1  is removed as a possibility from:\n",
      "Row  8 column  5\n",
      "Search for new?\n",
      "\n",
      "LOCKED CANDIDATE IN A COLUMN!\n",
      "Column  1  can only have  2  in box  1\n",
      "2  is removed as a possibility from:\n",
      "Row  1 column  2\n",
      "Row  3 column  2\n",
      "Row  1 column  3\n",
      "Row  2 column  3\n",
      "Row  3 column  3\n",
      "Search for new?\n",
      "\n",
      "HIDDEN SINGLE IN A ROW!\n",
      "In row  2   2  can only be in column  4\n",
      "   |  3|5  \n",
      "37 |2  |481\n",
      "   |1 8|93 \n",
      "---+---+---\n",
      "4  |92 |3  \n",
      "7  |  4|   \n",
      "1  |   |694\n",
      "---+---+---\n",
      "6  |439|   \n",
      "   |6 2| 43\n",
      " 34|   |269\n",
      "\n",
      "Search for new?q\n",
      "Not valid!\n",
      "¤¤¤¤¤¤¤¤¤¤¤¤¤¤¤¤¤¤¤¤¤¤¤¤¤¤¤¤¤¤¤¤¤¤¤¤¤¤¤¤¤¤¤¤¤¤¤¤¤¤\n",
      "No solution found! :(\n",
      "More advanced techniques needed.\n"
     ]
    }
   ],
   "source": [
    "(valid, node) = sudoku.main(puzzle)"
   ]
  },
  {
   "cell_type": "code",
   "execution_count": 11,
   "metadata": {},
   "outputs": [
    {
     "data": {
      "text/plain": [
       "[set(), set(), {(2, 3), (3, 3)}, set(), set(), set(), set(), set(), set()]"
      ]
     },
     "execution_count": 11,
     "metadata": {},
     "output_type": "execute_result"
    }
   ],
   "source": [
    "a = []\n",
    "for n in range(1, 10):\n",
    "    a.append(set())\n",
    "a[2].add((2, 3))\n",
    "a[2].add((3, 3))\n",
    "a"
   ]
  },
  {
   "cell_type": "code",
   "execution_count": 4,
   "metadata": {
    "scrolled": true
   },
   "outputs": [
    {
     "name": "stdout",
     "output_type": "stream",
     "text": [
      "Time elapsed:  0.07681012153625488\n",
      "Time elapsed:  0.019945859909057617\n"
     ]
    }
   ],
   "source": [
    "import time\n",
    "import copy\n",
    "\n",
    "start = time.time()\n",
    "for i in range(1000):\n",
    "    duplicate = copy.deepcopy(node)\n",
    "end =  time.time()\n",
    "print('Time elapsed: ', end - start)\n",
    "\n",
    "start = time.time()\n",
    "for i in range(1000):\n",
    "    duplicate = sudoku.deepcopy_node(node)\n",
    "end =  time.time()\n",
    "print('Time elapsed: ', end - start)"
   ]
  },
  {
   "cell_type": "code",
   "execution_count": 2,
   "metadata": {},
   "outputs": [],
   "source": [
    "# Good Sudoku, Expert 167\n",
    "puzzle = '800700010000010970000050020004000000060270080000000400010020000096040000045008009'"
   ]
  },
  {
   "cell_type": "code",
   "execution_count": 2,
   "metadata": {},
   "outputs": [],
   "source": [
    "# Good Sudoku, Advanced 15\n",
    "puzzle = '001080940320005000040010020070040806000702000403060750030058060000600098016000000'"
   ]
  },
  {
   "cell_type": "code",
   "execution_count": 2,
   "metadata": {},
   "outputs": [],
   "source": [
    "# NYT hard 23.04.2022\n",
    "puzzle = '400300570000006024900005000700840003000002090008600002167000000000000306200000000'"
   ]
  },
  {
   "cell_type": "code",
   "execution_count": 2,
   "metadata": {},
   "outputs": [],
   "source": [
    "# NYT hard 21.04.2022\n",
    "puzzle = '000008000004000000690500020800360004000001000203070900000000061008930040070004002'"
   ]
  },
  {
   "cell_type": "code",
   "execution_count": 4,
   "metadata": {},
   "outputs": [],
   "source": [
    "# NYT medium 21.04.2022\n",
    "puzzle = '053040000800000107900000000000467090609010003004002000000900206000000040070000005'"
   ]
  },
  {
   "cell_type": "code",
   "execution_count": 5,
   "metadata": {},
   "outputs": [],
   "source": [
    "# NYT easy 21.04.2022\n",
    "puzzle = '013096072500742010200001596000179260670800000194000050408000000001600309006430007'"
   ]
  },
  {
   "cell_type": "code",
   "execution_count": 6,
   "metadata": {},
   "outputs": [],
   "source": [
    "# Good Sudoku, Beginner 10\n",
    "puzzle = '042053009070060410590010800904070200000581903013000006200040097001009050400730000'"
   ]
  },
  {
   "cell_type": "code",
   "execution_count": 7,
   "metadata": {},
   "outputs": [],
   "source": [
    "# Good Sudoku, Advanced 14\n",
    "puzzle = '500000009348097010000020070006005004000030200410900830073052000050740023000000006'"
   ]
  },
  {
   "cell_type": "code",
   "execution_count": 2,
   "metadata": {},
   "outputs": [],
   "source": [
    "puzzle = \"\"\"070 000 043\n",
    "            040 009 610\n",
    "            800 634 900\n",
    "\n",
    "            094 052 000\n",
    "            358 460 020\n",
    "            000 800 530\n",
    "\n",
    "            080 070 091\n",
    "            902 100 005\n",
    "            007 040 802\"\"\""
   ]
  }
 ],
 "metadata": {
  "kernelspec": {
   "display_name": "Python 3",
   "language": "python",
   "name": "python3"
  },
  "language_info": {
   "codemirror_mode": {
    "name": "ipython",
    "version": 3
   },
   "file_extension": ".py",
   "mimetype": "text/x-python",
   "name": "python",
   "nbconvert_exporter": "python",
   "pygments_lexer": "ipython3",
   "version": "3.7.3"
  }
 },
 "nbformat": 4,
 "nbformat_minor": 2
}
