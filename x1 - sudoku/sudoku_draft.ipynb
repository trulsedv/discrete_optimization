{
 "cells": [
  {
   "cell_type": "code",
   "execution_count": 1,
   "metadata": {},
   "outputs": [],
   "source": [
    "import sudoku"
   ]
  },
  {
   "cell_type": "code",
   "execution_count": 2,
   "metadata": {},
   "outputs": [],
   "source": [
    "puzzle = \"\"\"070 000 043\n",
    "            040 009 610\n",
    "            800 634 900\n",
    "\n",
    "            094 052 000\n",
    "            358 460 020\n",
    "            000 800 530\n",
    "\n",
    "            080 070 091\n",
    "            902 100 005\n",
    "            007 040 802\"\"\""
   ]
  },
  {
   "cell_type": "code",
   "execution_count": 3,
   "metadata": {},
   "outputs": [],
   "source": [
    "sdk = sudoku.create_dict(puzzle)"
   ]
  },
  {
   "cell_type": "code",
   "execution_count": 5,
   "metadata": {
    "scrolled": true
   },
   "outputs": [],
   "source": [
    "(r, sdk) = sudoku.pruning(sdk)"
   ]
  },
  {
   "cell_type": "code",
   "execution_count": 6,
   "metadata": {
    "scrolled": true
   },
   "outputs": [
    {
     "data": {
      "text/plain": [
       "{'puzzle': '070000043040009610800634900094052000358460020000800530080070091902100005007040802',\n",
       " 'solution': '',\n",
       " 'rows': [[{1, 2, 5, 6, 8, 9},\n",
       "   7,\n",
       "   {1, 2, 5, 6, 8, 9},\n",
       "   {1, 2, 5, 6, 8, 9},\n",
       "   {1, 2, 5, 6, 8, 9},\n",
       "   {1, 2, 5, 6, 8, 9},\n",
       "   {1, 2, 5, 6, 8, 9},\n",
       "   4,\n",
       "   3],\n",
       "  [{2, 3, 5, 7, 8},\n",
       "   4,\n",
       "   {2, 3, 5, 7, 8},\n",
       "   {2, 3, 5, 7, 8},\n",
       "   {2, 3, 5, 7, 8},\n",
       "   9,\n",
       "   6,\n",
       "   1,\n",
       "   {2, 3, 5, 7, 8}],\n",
       "  [8, {1, 2, 5, 7}, {1, 2, 5, 7}, 6, 3, 4, 9, {1, 2, 5, 7}, {1, 2, 5, 7}],\n",
       "  [{1, 3, 6, 7, 8},\n",
       "   9,\n",
       "   4,\n",
       "   {1, 3, 6, 7, 8},\n",
       "   5,\n",
       "   2,\n",
       "   {1, 3, 6, 7, 8},\n",
       "   {1, 3, 6, 7, 8},\n",
       "   {1, 3, 6, 7, 8}],\n",
       "  [3, 5, 8, 4, 6, {1, 7, 9}, {1, 7, 9}, 2, {1, 7, 9}],\n",
       "  [{1, 2, 4, 6, 7, 9},\n",
       "   {1, 2, 4, 6, 7, 9},\n",
       "   {1, 2, 4, 6, 7, 9},\n",
       "   8,\n",
       "   {1, 2, 4, 6, 7, 9},\n",
       "   {1, 2, 4, 6, 7, 9},\n",
       "   5,\n",
       "   3,\n",
       "   {1, 2, 4, 6, 7, 9}],\n",
       "  [{2, 3, 4, 5, 6},\n",
       "   8,\n",
       "   {2, 3, 4, 5, 6},\n",
       "   {2, 3, 4, 5, 6},\n",
       "   7,\n",
       "   {2, 3, 4, 5, 6},\n",
       "   {2, 3, 4, 5, 6},\n",
       "   9,\n",
       "   1],\n",
       "  [9,\n",
       "   {3, 4, 6, 7, 8},\n",
       "   2,\n",
       "   1,\n",
       "   {3, 4, 6, 7, 8},\n",
       "   {3, 4, 6, 7, 8},\n",
       "   {3, 4, 6, 7, 8},\n",
       "   {3, 4, 6, 7, 8},\n",
       "   5],\n",
       "  [{1, 3, 5, 6, 9},\n",
       "   {1, 3, 5, 6, 9},\n",
       "   7,\n",
       "   {1, 3, 5, 6, 9},\n",
       "   4,\n",
       "   {1, 3, 5, 6, 9},\n",
       "   8,\n",
       "   {1, 3, 5, 6, 9},\n",
       "   2]]}"
      ]
     },
     "execution_count": 6,
     "metadata": {},
     "output_type": "execute_result"
    }
   ],
   "source": [
    "sdk"
   ]
  }
 ],
 "metadata": {
  "kernelspec": {
   "display_name": "Python 3",
   "language": "python",
   "name": "python3"
  },
  "language_info": {
   "codemirror_mode": {
    "name": "ipython",
    "version": 3
   },
   "file_extension": ".py",
   "mimetype": "text/x-python",
   "name": "python",
   "nbconvert_exporter": "python",
   "pygments_lexer": "ipython3",
   "version": "3.7.3"
  }
 },
 "nbformat": 4,
 "nbformat_minor": 2
}
