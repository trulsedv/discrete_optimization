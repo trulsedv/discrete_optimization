{
 "cells": [
  {
   "cell_type": "code",
   "execution_count": 1,
   "metadata": {},
   "outputs": [],
   "source": [
    "from os import walk, listdir\n",
    "from pprint import pprint\n",
    "import solver"
   ]
  },
  {
   "cell_type": "code",
   "execution_count": 2,
   "metadata": {},
   "outputs": [
    {
     "name": "stdout",
     "output_type": "stream",
     "text": [
      "['ks_4_0',\n",
      " 'ks_19_0',\n",
      " 'ks_30_0',\n",
      " 'ks_40_0',\n",
      " 'ks_45_0',\n",
      " 'ks_50_0',\n",
      " 'ks_50_1',\n",
      " 'ks_60_0',\n",
      " 'ks_82_0',\n",
      " 'ks_100_0',\n",
      " 'ks_100_1',\n",
      " 'ks_100_2',\n",
      " 'ks_106_0',\n",
      " 'ks_200_0',\n",
      " 'ks_200_1',\n",
      " 'ks_300_0',\n",
      " 'ks_400_0',\n",
      " 'ks_500_0',\n",
      " 'ks_1000_0',\n",
      " 'ks_10000_0']\n"
     ]
    }
   ],
   "source": [
    "mypath = './data/'\n",
    "l = listdir(mypath)\n",
    "l.pop()\n",
    "l.pop()\n",
    "l = sorted(l, key=lambda x: int(x.partition('_')[2].partition('_')[0]))\n",
    "l.pop(0)\n",
    "pprint(l)"
   ]
  },
  {
   "cell_type": "code",
   "execution_count": 3,
   "metadata": {},
   "outputs": [
    {
     "name": "stdout",
     "output_type": "stream",
     "text": [
      "ks_4_0\n",
      "elapsed time:     0.0010 s, nodes visited:         19, nodes in tree: 3.10E+01, visited: 6.13E+01 %\n",
      "\n",
      "ks_19_0\n",
      "elapsed time:     0.0240 s, nodes visited:        709, nodes in tree: 1.05E+06, visited: 6.76E-02 %\n",
      "\n",
      "ks_30_0\n",
      "elapsed time:     0.7089 s, nodes visited:      12779, nodes in tree: 2.15E+09, visited: 5.95E-04 %\n",
      "\n",
      "ks_40_0\n",
      "stopped after 60 s\n",
      "elapsed time:    60.0005 s, nodes visited:    1061294, nodes in tree: 2.20E+12, visited: 4.83E-05 %\n",
      "\n",
      "ks_45_0\n",
      "elapsed time:     0.0040 s, nodes visited:         91, nodes in tree: 7.04E+13, visited: 1.29E-10 %\n",
      "\n",
      "ks_50_0\n",
      "elapsed time:     0.0326 s, nodes visited:        619, nodes in tree: 2.25E+15, visited: 2.75E-11 %\n",
      "\n",
      "ks_50_1\n",
      "elapsed time:     0.0983 s, nodes visited:       1643, nodes in tree: 2.25E+15, visited: 7.30E-11 %\n",
      "\n",
      "ks_60_0\n",
      "stopped after 60 s\n",
      "elapsed time:    60.0004 s, nodes visited:     565331, nodes in tree: 2.31E+18, visited: 2.45E-11 %\n",
      "\n",
      "ks_82_0\n",
      "stopped after 60 s\n",
      "elapsed time:    60.0004 s, nodes visited:     394257, nodes in tree: 9.67E+24, visited: 4.08E-18 %\n",
      "\n",
      "ks_100_0\n",
      "stopped after 60 s\n",
      "elapsed time:    60.0000 s, nodes visited:     344789, nodes in tree: 2.54E+30, visited: 1.36E-23 %\n",
      "\n",
      "ks_100_1\n",
      "elapsed time:     0.4855 s, nodes visited:       5585, nodes in tree: 2.54E+30, visited: 2.20E-25 %\n",
      "\n",
      "ks_100_2\n",
      "elapsed time:     0.0253 s, nodes visited:        295, nodes in tree: 2.54E+30, visited: 1.16E-26 %\n",
      "\n",
      "ks_106_0\n",
      "stopped after 60 s\n",
      "elapsed time:    60.0002 s, nodes visited:     309885, nodes in tree: 1.62E+32, visited: 1.91E-25 %\n",
      "\n",
      "ks_200_0\n",
      "stopped after 60 s\n",
      "elapsed time:    60.0002 s, nodes visited:     191759, nodes in tree: 3.21E+60, visited: 5.97E-54 %\n",
      "\n",
      "ks_200_1\n",
      "elapsed time:     7.1508 s, nodes visited:      30665, nodes in tree: 3.21E+60, visited: 9.54E-55 %\n",
      "\n",
      "ks_300_0\n",
      "elapsed time:    40.5145 s, nodes visited:     167581, nodes in tree: 4.07E+90, visited: 4.11E-84 %\n",
      "\n",
      "ks_400_0\n",
      "stopped after 60 s\n",
      "elapsed time:    60.0032 s, nodes visited:     139871, nodes in tree: 5.16E+120, visited: 2.71E-114 %\n",
      "\n",
      "ks_500_0\n",
      "elapsed time:    10.5571 s, nodes visited:       8489, nodes in tree: 6.55E+150, visited: 1.30E-145 %\n",
      "\n",
      "ks_1000_0\n",
      "stopped after 60 s\n",
      "elapsed time:    60.0092 s, nodes visited:      12465, nodes in tree: 2.14E+301, visited: 5.82E-296 %\n",
      "\n",
      "ks_10000_0\n",
      "stopped after 60 s\n"
     ]
    },
    {
     "ename": "IndexError",
     "evalue": "list index out of range",
     "output_type": "error",
     "traceback": [
      "\u001b[1;31m---------------------------------------------------------------------------\u001b[0m",
      "\u001b[1;31mIndexError\u001b[0m                                Traceback (most recent call last)",
      "\u001b[1;32m<ipython-input-3-52ddfe19f1d6>\u001b[0m in \u001b[0;36m<module>\u001b[1;34m\u001b[0m\n\u001b[0;32m      3\u001b[0m         \u001b[0minput_data\u001b[0m \u001b[1;33m=\u001b[0m \u001b[0minput_data_file\u001b[0m\u001b[1;33m.\u001b[0m\u001b[0mread\u001b[0m\u001b[1;33m(\u001b[0m\u001b[1;33m)\u001b[0m\u001b[1;33m\u001b[0m\u001b[1;33m\u001b[0m\u001b[0m\n\u001b[0;32m      4\u001b[0m     \u001b[0mprint\u001b[0m\u001b[1;33m(\u001b[0m\u001b[0mfile_name\u001b[0m\u001b[1;33m)\u001b[0m\u001b[1;33m\u001b[0m\u001b[1;33m\u001b[0m\u001b[0m\n\u001b[1;32m----> 5\u001b[1;33m     \u001b[0moutput_data\u001b[0m \u001b[1;33m=\u001b[0m \u001b[0msolver\u001b[0m\u001b[1;33m.\u001b[0m\u001b[0msolve_it\u001b[0m\u001b[1;33m(\u001b[0m\u001b[0minput_data\u001b[0m\u001b[1;33m)\u001b[0m\u001b[1;33m\u001b[0m\u001b[1;33m\u001b[0m\u001b[0m\n\u001b[0m",
      "\u001b[1;32m~\\Documents\\git\\discrete_optimization\\01 - knapsack\\solver.py\u001b[0m in \u001b[0;36msolve_it\u001b[1;34m(input_data)\u001b[0m\n\u001b[0;32m     28\u001b[0m \u001b[1;33m\u001b[0m\u001b[0m\n\u001b[0;32m     29\u001b[0m     \u001b[1;31m# solve_it\u001b[0m\u001b[1;33m\u001b[0m\u001b[1;33m\u001b[0m\u001b[1;33m\u001b[0m\u001b[0m\n\u001b[1;32m---> 30\u001b[1;33m     \u001b[0moutput_data\u001b[0m \u001b[1;33m=\u001b[0m \u001b[0mknapsack\u001b[0m\u001b[1;33m.\u001b[0m\u001b[0mDFS_iterative\u001b[0m\u001b[1;33m(\u001b[0m\u001b[0mitems\u001b[0m\u001b[1;33m,\u001b[0m \u001b[0mitem_count\u001b[0m\u001b[1;33m,\u001b[0m \u001b[0mcapacity\u001b[0m\u001b[1;33m)\u001b[0m\u001b[1;33m\u001b[0m\u001b[1;33m\u001b[0m\u001b[0m\n\u001b[0m\u001b[0;32m     31\u001b[0m     \u001b[1;31m# output_data = knapsack.dynamic_programing(items, item_count, capacity)\u001b[0m\u001b[1;33m\u001b[0m\u001b[1;33m\u001b[0m\u001b[1;33m\u001b[0m\u001b[0m\n\u001b[0;32m     32\u001b[0m \u001b[1;33m\u001b[0m\u001b[0m\n",
      "\u001b[1;32m~\\Documents\\git\\discrete_optimization\\01 - knapsack\\knapsack.py\u001b[0m in \u001b[0;36mDFS_iterative\u001b[1;34m(items, item_count, capacity)\u001b[0m\n\u001b[0;32m    140\u001b[0m     \u001b[0mtaken\u001b[0m \u001b[1;33m=\u001b[0m \u001b[0mitem_count\u001b[0m \u001b[1;33m*\u001b[0m \u001b[1;33m[\u001b[0m\u001b[1;36m0\u001b[0m\u001b[1;33m]\u001b[0m\u001b[1;33m\u001b[0m\u001b[1;33m\u001b[0m\u001b[0m\n\u001b[0;32m    141\u001b[0m     \u001b[1;32mfor\u001b[0m \u001b[0midx\u001b[0m\u001b[1;33m,\u001b[0m \u001b[0mitem\u001b[0m \u001b[1;32min\u001b[0m \u001b[0menumerate\u001b[0m\u001b[1;33m(\u001b[0m\u001b[0mitems_sorted\u001b[0m\u001b[1;33m)\u001b[0m\u001b[1;33m:\u001b[0m\u001b[1;33m\u001b[0m\u001b[1;33m\u001b[0m\u001b[0m\n\u001b[1;32m--> 142\u001b[1;33m         \u001b[0mtaken\u001b[0m\u001b[1;33m[\u001b[0m\u001b[0mitem\u001b[0m\u001b[1;33m.\u001b[0m\u001b[0mindex\u001b[0m\u001b[1;33m]\u001b[0m \u001b[1;33m=\u001b[0m \u001b[0mbest_taken\u001b[0m\u001b[1;33m[\u001b[0m\u001b[0midx\u001b[0m\u001b[1;33m]\u001b[0m\u001b[1;33m\u001b[0m\u001b[1;33m\u001b[0m\u001b[0m\n\u001b[0m\u001b[0;32m    143\u001b[0m     \u001b[0moutput_data\u001b[0m \u001b[1;33m=\u001b[0m \u001b[0mstr\u001b[0m\u001b[1;33m(\u001b[0m\u001b[0mbest_solution\u001b[0m\u001b[1;33m)\u001b[0m \u001b[1;33m+\u001b[0m \u001b[1;34m' '\u001b[0m \u001b[1;33m+\u001b[0m \u001b[0mstr\u001b[0m\u001b[1;33m(\u001b[0m\u001b[1;36m0\u001b[0m\u001b[1;33m)\u001b[0m \u001b[1;33m+\u001b[0m \u001b[1;34m'\\n'\u001b[0m\u001b[1;33m\u001b[0m\u001b[1;33m\u001b[0m\u001b[0m\n\u001b[0;32m    144\u001b[0m     \u001b[0moutput_data\u001b[0m \u001b[1;33m+=\u001b[0m \u001b[1;34m' '\u001b[0m\u001b[1;33m.\u001b[0m\u001b[0mjoin\u001b[0m\u001b[1;33m(\u001b[0m\u001b[0mmap\u001b[0m\u001b[1;33m(\u001b[0m\u001b[0mstr\u001b[0m\u001b[1;33m,\u001b[0m \u001b[0mtaken\u001b[0m\u001b[1;33m)\u001b[0m\u001b[1;33m)\u001b[0m\u001b[1;33m\u001b[0m\u001b[1;33m\u001b[0m\u001b[0m\n",
      "\u001b[1;31mIndexError\u001b[0m: list index out of range"
     ]
    }
   ],
   "source": [
    "for file_name in l:\n",
    "    with open(mypath + file_name, 'r') as input_data_file:\n",
    "        input_data = input_data_file.read()\n",
    "    print(file_name)\n",
    "    output_data = solver.solve_it(input_data)"
   ]
  },
  {
   "cell_type": "code",
   "execution_count": null,
   "metadata": {},
   "outputs": [],
   "source": [
    "item_count = 60\n",
    "nodes_visited = 4000000\n",
    "\n",
    "nodes = 0\n",
    "for i in range(item_count + 1):\n",
    "    nodes += 2**i\n",
    "\n",
    "string = f'nodes visited: {nodes_visited:}, nodes in tree: {nodes:.2E}, visited: {100*nodes_visited/nodes:.2E} %'\n",
    "print(string)"
   ]
  }
 ],
 "metadata": {
  "kernelspec": {
   "display_name": "Python 3",
   "language": "python",
   "name": "python3"
  },
  "language_info": {
   "codemirror_mode": {
    "name": "ipython",
    "version": 3
   },
   "file_extension": ".py",
   "mimetype": "text/x-python",
   "name": "python",
   "nbconvert_exporter": "python",
   "pygments_lexer": "ipython3",
   "version": "3.7.3"
  }
 },
 "nbformat": 4,
 "nbformat_minor": 2
}
